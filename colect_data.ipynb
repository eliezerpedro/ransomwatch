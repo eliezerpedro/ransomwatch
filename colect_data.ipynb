{
 "cells": [
  {
   "cell_type": "code",
   "execution_count": null,
   "id": "631d9d87-2bb8-4dd3-9cb9-e16e7413ad05",
   "metadata": {},
   "outputs": [],
   "source": [
    "import pandas as pd\n",
    "import json\n",
    "import requests\n",
    "import re\n",
    "import dateparser\n",
    "from bs4 import BeautifulSoup\n",
    "from datetime import datetime, timedelta\n",
    "\n",
    "# Configurar o proxy TOR (SOCKS5)\n",
    "proxies = {\n",
    "    'http': 'socks5h://localhost:9050',\n",
    "    'https': 'socks5h://localhost:9050'\n",
    "}\n",
    "\n",
    "with open('grupos.json', 'r') as file:\n",
    "    data = json.load(file)\n",
    "\n",
    "df = pd.DataFrame.from_dict(data, orient='index').explode('links_online')\n",
    "\n",
    "df.reset_index(inplace=True)\n",
    "df.columns = ['grupo', 'link_grupo', 'links_online']\n",
    "\n",
    "# Adicionando as novas colunas\n",
    "df['response_status_code'] = None \n",
    "df['html'] = None\n",
    "df['infos'] = None\n",
    "df['datas'] = None\n",
    "df['qtd_datas'] = None\n",
    "\n",
    "\n"
   ]
  },
  {
   "cell_type": "code",
   "execution_count": null,
   "id": "bb03f0d4-b625-438b-a3bc-b258a5074aac",
   "metadata": {},
   "outputs": [],
   "source": [
    "df"
   ]
  },
  {
   "cell_type": "code",
   "execution_count": null,
   "id": "edcbd6d1-4e0d-470c-b314-72ac86450b31",
   "metadata": {},
   "outputs": [],
   "source": [
    "def extract_dates(html, days):\n",
    "    # Padrões de datas que queremos capturar\n",
    "    date_patterns = [\n",
    "        r'\\d{4}-\\d{2}-\\d{2}',           # AAAA-MM-DD\n",
    "        r'\\d{2}/\\d{2}/\\d{4}',           # DD/MM/AAAA ou MM/DD/AAAA (dependendo do contexto)\n",
    "        r'\\d{1,2} de \\w+ de \\d{4}',     # DD de Mês de AAAA\n",
    "        r'\\d{4}\\.\\d{2}\\.\\d{2}',         # AAAA.MM.DD\n",
    "        r'\\w+ \\d{1,2}, \\d{4}',          # Mês DD, AAAA\n",
    "        r'\\d{2}-\\d{2}-\\d{4}',           # DD-MM-AAAA\n",
    "        r'\\w{3} \\d{1,2}, \\d{4}',        # Mês Abreviado DD, AAAA\n",
    "        r'\\d{1,2} \\w{3} \\d{4}',         # DD Mon AAAA\n",
    "        r'\\d{4}/\\d{2}/\\d{2}',           # AAAA/MM/DD\n",
    "        r'\\d{8}',                       # AAAAMMDD ou DDMMYYYY (sem delimitadores)\n",
    "        r'\\d{4}-\\d{2}-\\d{2}T\\d{2}:\\d{2}:\\d{2}(?:\\.\\d+)?(?:Z|[+-]\\d{2}:\\d{2})',  # ISO 8601\n",
    "        r'\\w+ de \\d{4}',                # Mês por Extenso e Ano\n",
    "        r'\\w+ \\d{1,2}(?:st|nd|rd|th), \\d{4}', # Mês e Dia por Extenso (Oct 1st, 2024)\n",
    "        r'\\d{4}\\w{3}\\d{2}',             # AAAA-MêsAbreviado-DD (2024Oct31)\n",
    "        r'\\d{2}/\\d{2}/\\d{2}',           # Dia/Mês/Ano Abreviado (10/12/24)\n",
    "        r'\\w{3}, \\d{4}',                # Mês Abreviado e Ano (Oct, 2024)\n",
    "        r'\\d{4}-\\d{2}',                 # Ano e Mês (2024-10)\n",
    "        r'\\d{4}, \\w{3} \\d{1,2}(?:st|nd|rd|th)', # Ano, Mês Abreviado e Dia por Extenso (2024, Oct 10th)\n",
    "        \n",
    "        # Formatos Internacionais\n",
    "        r'\\d{2}\\.\\d{2}\\.\\d{4}',                # Formato Alemão (TT.MM.JJJJ)\n",
    "        r'\\d{4}年\\d{1,2}月\\d{1,2}日',            # Formato Chinês (AAAA年MM月DD日)\n",
    "]\n",
    "\n",
    "    \n",
    "    soup = BeautifulSoup(html, 'html.parser')\n",
    "    text = soup.get_text()\n",
    "    dates = []\n",
    "    for pattern in date_patterns:\n",
    "        found_dates = re.findall(pattern, text)\n",
    "        dates.extend(found_dates)\n",
    "\n",
    "    # Filtrar datas para mostrar apenas os últimos 7 dias\n",
    "    collected_dates = []\n",
    "    for date_str in dates:\n",
    "        # Tentar converter a data de acordo com o formato\n",
    "        for fmt in ['%Y-%m-%d', '%d/%m/%Y', '%d de %B de %Y', '%Y.%m.%d', '%B %d, %Y']:\n",
    "            try:\n",
    "                date = datetime.strptime(date_str, fmt)\n",
    "                if (datetime.now() - timedelta(days)) <= date <= datetime.now():\n",
    "                    collected_dates.append(date_str)\n",
    "                break  # Se a data foi convertida com sucesso, saia do loop\n",
    "            except ValueError:\n",
    "                continue  # Tente o próximo formato\n",
    "\n",
    "    return collected_dates"
   ]
  },
  {
   "cell_type": "code",
   "execution_count": null,
   "id": "86f2ab93-7bab-4dac-a01a-5b8ce47c2b38",
   "metadata": {},
   "outputs": [],
   "source": [
    "days = 7\n",
    "\n",
    "for index, row in df.iterrows():\n",
    "    url = row['links_online']\n",
    "    try:\n",
    "        # Fazendo a requisição para o link usando requests\n",
    "        response = requests.get(url, proxies=proxies, timeout=30)\n",
    "        \n",
    "        # Salvando o status code na coluna 'disponivel'\n",
    "        df.at[index, 'response_status_code'] = response.status_code\n",
    "        \n",
    "        # Se o status code for 200, salvamos o HTML na coluna 'html'\n",
    "        if response.status_code == 200:\n",
    "            print(\"Acesso bem-sucedido!\")\n",
    "            df.at[index, 'html'] = response.text\n",
    "            datas = extract_dates(response.text, days)\n",
    "            if datas:\n",
    "                df.at[index, 'infos'] = True\n",
    "            else:\n",
    "                df.at[index, 'infos'] = False\n",
    "            df.at[index, 'datas'] = datas\n",
    "            df.at[index, 'qtd_datas'] = len(datas)\n",
    "\n",
    "    except requests.RequestException as e:\n",
    "        # Em caso de erro na requisição, salvamos o status como None ou erro apropriado\n",
    "        df.at[index, 'response_status_code'] = 'erro'\n",
    "\n",
    "\n"
   ]
  },
  {
   "cell_type": "code",
   "execution_count": null,
   "id": "5b6dd94b-8732-4af0-93fc-a4e9d76935fe",
   "metadata": {},
   "outputs": [],
   "source": [
    "df"
   ]
  },
  {
   "cell_type": "code",
   "execution_count": null,
   "id": "545ed043-6a7e-4b34-b85e-ee2806c4407a",
   "metadata": {},
   "outputs": [],
   "source": [
    "df.to_csv(\"raw_data.csv\")\n"
   ]
  },
  {
   "cell_type": "code",
   "execution_count": null,
   "id": "74922201-1f66-4c90-91da-54fe74c82f54",
   "metadata": {},
   "outputs": [],
   "source": [
    "# df = pd.read_csv(\"raw_data.csv\", index_col=False)\n",
    "df_disponivel = df[df['infos'] == True]\n",
    "df_to_analize = df_disponivel.drop_duplicates(subset='html')\n",
    "df_to_analize = df_disponivel.drop_duplicates(subset='grupo')\n",
    "df_to_analize.reset_index(drop=True, inplace=True)"
   ]
  },
  {
   "cell_type": "code",
   "execution_count": null,
   "id": "27ed918a-5c85-468e-baa5-d86089c4c979",
   "metadata": {},
   "outputs": [],
   "source": [
    "df_to_analize.to_csv('df_to_analize.csv')"
   ]
  },
  {
   "cell_type": "code",
   "execution_count": null,
   "id": "6c2c758e-1fd7-48a4-ac05-4ed8c46b1562",
   "metadata": {},
   "outputs": [],
   "source": []
  },
  {
   "cell_type": "code",
   "execution_count": 2,
   "id": "87a5de80-3d34-428e-ad67-14c243b2629e",
   "metadata": {},
   "outputs": [],
   "source": [
    "df_to_analize = pd.read_csv(\"df_to_analize.csv\", index_col=False)"
   ]
  },
  {
   "cell_type": "code",
   "execution_count": 3,
   "id": "dd366482-522d-444c-82aa-22a6bf545be4",
   "metadata": {},
   "outputs": [],
   "source": [
    "from grupos import Grupos\n",
    "\n",
    "grupos = Grupos(days=7)\n",
    "\n",
    "def processar_grupos(grupos, df_to_analize):\n",
    "    resultados = []  # Lista para armazenar os resultados\n",
    "\n",
    "    for index, row in df_to_analize.iterrows():\n",
    "        try:\n",
    "            grupo = row['grupo']\n",
    "            html_content = row['html']\n",
    "            \n",
    "            # Chamar o método correspondente com base no valor da coluna 'grupo'\n",
    "            if grupo == 'ransomhouse':\n",
    "                result = grupos.ransomhouse(html_content)\n",
    "            elif grupo == 'monti':\n",
    "                result = grupos.monti(html_content)\n",
    "            elif grupo == 'play':\n",
    "                result = grupos.play(html_content)\n",
    "            elif grupo == 'handala':\n",
    "                result = grupos.handala(html_content)\n",
    "            elif grupo == 'blackbyte':\n",
    "                result = grupos.blackbyte(html_content)\n",
    "            else:\n",
    "                print(f\"Grupo '{grupo}' ainda não possui um scraper específico. Link para obter o html: {row['links_online']}\")\n",
    "                continue  # Pular para o próximo grupo se não houver scraper\n",
    "\n",
    "            # Adiciona os resultados à lista, incluindo o grupo como uma nova chave\n",
    "            for item in result:\n",
    "                item['grupo'] = grupo  # Adicionando o grupo ao resultado\n",
    "                resultados.append(item)  # Adicionando cada resultado à lista\n",
    "\n",
    "        except Exception as e:\n",
    "            print(f\"Erro ao processar o grupo '{grupo}': {e}\")\n",
    "\n",
    "    return resultados"
   ]
  },
  {
   "cell_type": "code",
   "execution_count": 5,
   "id": "9d066195-a23e-486a-8821-bc653c1a8229",
   "metadata": {},
   "outputs": [],
   "source": [
    "\n",
    "data = processar_grupos(grupos, df_to_analize)"
   ]
  },
  {
   "cell_type": "code",
   "execution_count": 9,
   "id": "321f1454-fc69-42ee-ba12-ba91ab53c1b1",
   "metadata": {},
   "outputs": [
    {
     "name": "stdout",
     "output_type": "stream",
     "text": [
      "       grupo  count  rank\n",
      "3       play     12     1\n",
      "0  blackbyte      7     2\n",
      "1    handala      4     3\n",
      "2      monti      1     4\n"
     ]
    }
   ],
   "source": [
    "df = pd.DataFrame(data)\n",
    "\n",
    "# Agrupar por grupo e contar as ocorrências\n",
    "ranking = df.groupby('grupo').size().reset_index(name='count')\n",
    "\n",
    "# Ordenar pelo número de ocorrências em ordem decrescente\n",
    "ranking = ranking.sort_values(by='count', ascending=False)\n",
    "\n",
    "# Criar uma coluna de ranking\n",
    "ranking['rank'] = ranking['count'].rank(method='min', ascending=False).astype(int)\n"
   ]
  },
  {
   "cell_type": "code",
   "execution_count": 8,
   "id": "888a8607-ea69-4d34-9796-da82056e1d46",
   "metadata": {},
   "outputs": [
    {
     "data": {
      "text/html": [
       "<div>\n",
       "<style scoped>\n",
       "    .dataframe tbody tr th:only-of-type {\n",
       "        vertical-align: middle;\n",
       "    }\n",
       "\n",
       "    .dataframe tbody tr th {\n",
       "        vertical-align: top;\n",
       "    }\n",
       "\n",
       "    .dataframe thead th {\n",
       "        text-align: right;\n",
       "    }\n",
       "</style>\n",
       "<table border=\"1\" class=\"dataframe\">\n",
       "  <thead>\n",
       "    <tr style=\"text-align: right;\">\n",
       "      <th></th>\n",
       "      <th>index</th>\n",
       "      <th>grupo</th>\n",
       "      <th>count</th>\n",
       "      <th>rank</th>\n",
       "    </tr>\n",
       "  </thead>\n",
       "  <tbody>\n",
       "    <tr>\n",
       "      <th>0</th>\n",
       "      <td>3</td>\n",
       "      <td>play</td>\n",
       "      <td>12</td>\n",
       "      <td>1</td>\n",
       "    </tr>\n",
       "    <tr>\n",
       "      <th>1</th>\n",
       "      <td>0</td>\n",
       "      <td>blackbyte</td>\n",
       "      <td>7</td>\n",
       "      <td>2</td>\n",
       "    </tr>\n",
       "    <tr>\n",
       "      <th>2</th>\n",
       "      <td>1</td>\n",
       "      <td>handala</td>\n",
       "      <td>4</td>\n",
       "      <td>3</td>\n",
       "    </tr>\n",
       "    <tr>\n",
       "      <th>3</th>\n",
       "      <td>2</td>\n",
       "      <td>monti</td>\n",
       "      <td>1</td>\n",
       "      <td>4</td>\n",
       "    </tr>\n",
       "  </tbody>\n",
       "</table>\n",
       "</div>"
      ],
      "text/plain": [
       "   index      grupo  count  rank\n",
       "0      3       play     12     1\n",
       "1      0  blackbyte      7     2\n",
       "2      1    handala      4     3\n",
       "3      2      monti      1     4"
      ]
     },
     "execution_count": 8,
     "metadata": {},
     "output_type": "execute_result"
    }
   ],
   "source": [
    "ranking.reset_index()"
   ]
  },
  {
   "cell_type": "code",
   "execution_count": null,
   "id": "7a67e75a-063c-49bb-a4d6-25861402b73b",
   "metadata": {},
   "outputs": [],
   "source": []
  }
 ],
 "metadata": {
  "kernelspec": {
   "display_name": "Python 3 (ipykernel)",
   "language": "python",
   "name": "python3"
  },
  "language_info": {
   "codemirror_mode": {
    "name": "ipython",
    "version": 3
   },
   "file_extension": ".py",
   "mimetype": "text/x-python",
   "name": "python",
   "nbconvert_exporter": "python",
   "pygments_lexer": "ipython3",
   "version": "3.11.0"
  }
 },
 "nbformat": 4,
 "nbformat_minor": 5
}
