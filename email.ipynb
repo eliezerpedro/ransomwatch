{
 "cells": [
  {
   "cell_type": "code",
   "execution_count": 2,
   "id": "4440e2b6-a041-4e06-a198-6becb7648b5d",
   "metadata": {},
   "outputs": [
    {
     "name": "stdout",
     "output_type": "stream",
     "text": [
      "Email enviado com sucesso!\n"
     ]
    }
   ],
   "source": [
    "import os\n",
    "from send_email import SendEmail\n",
    "# Defina os caminhos dos arquivos e as informações do email\n",
    "pdf_file_path = os.path.join(os.getcwd(), 'ransomscraper.pdf')  # Caminho para o PDF\n",
    "json_file_path = os.path.join(os.getcwd(), 'groups.json')   # Caminho para o JSON\n",
    "\n",
    "email_sender = SendEmail()\n",
    "email_subject = \"Relatório e Dados Anexados\"\n",
    "email_body = \"Segue em anexo o relatório em PDF e os dados em JSON.\"\n",
    "\n",
    "# Enviar e-mail\n",
    "email_sender.send_email(email_subject, email_body, pdf_file_path, json_file_path)\n"
   ]
  },
  {
   "cell_type": "code",
   "execution_count": null,
   "id": "7b7a845f-94b8-4c8a-b2de-201d3f05a5c9",
   "metadata": {},
   "outputs": [],
   "source": []
  }
 ],
 "metadata": {
  "kernelspec": {
   "display_name": "Python 3 (ipykernel)",
   "language": "python",
   "name": "python3"
  },
  "language_info": {
   "codemirror_mode": {
    "name": "ipython",
    "version": 3
   },
   "file_extension": ".py",
   "mimetype": "text/x-python",
   "name": "python",
   "nbconvert_exporter": "python",
   "pygments_lexer": "ipython3",
   "version": "3.11.0"
  }
 },
 "nbformat": 4,
 "nbformat_minor": 5
}
